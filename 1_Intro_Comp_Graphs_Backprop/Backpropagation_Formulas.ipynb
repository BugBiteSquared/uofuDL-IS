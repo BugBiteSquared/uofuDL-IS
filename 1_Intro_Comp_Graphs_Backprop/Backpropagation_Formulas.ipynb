{
 "cells": [
  {
   "cell_type": "markdown",
   "metadata": {},
   "source": [
    "# U of U IS Deep Learning Study Group\n",
    "## Backpropagation Formula Sheet\n",
    "#### Author: Brian Sheng"
   ]
  },
  {
   "cell_type": "markdown",
   "metadata": {},
   "source": [
    "This is an excerpt from the longer set of notes on computational graphs and backpropagation. The formulas here outline the example case of a fully connnected neural net with one hidden layer, one input layer, one output layer, and non-linear activation functions applied to the hidden and output layers. "
   ]
  },
  {
   "cell_type": "markdown",
   "metadata": {},
   "source": [
    "$\\boldsymbol{x}=$ Inputs\n",
    "\n",
    "$\\boldsymbol{z_1}=\\boldsymbol{W_1 x}+\\boldsymbol{b_1}=$ Input values to \"hidden\" activation function\n",
    "\n",
    "$\\boldsymbol{a}=\\boldsymbol{f}(\\boldsymbol{z_1})=$ Hidden Activations\n",
    "\n",
    "$\\boldsymbol{z_2}=\\boldsymbol{W_2 a}+\\boldsymbol{b_2}=$ Inputs to \"output\" activation function\n",
    "\n",
    "$\\boldsymbol{y ̂}=\\boldsymbol{f}(\\boldsymbol{z_2})=$Output Activations"
   ]
  },
  {
   "cell_type": "markdown",
   "metadata": {},
   "source": [
    "$$\\frac{\\partial J}{\\partial \\boldsymbol{b_2}}\n",
    "=\n",
    "\\frac{\\partial J}{ \\partial \\boldsymbol{y ̂ }}  \n",
    "\\frac{\\partial \\boldsymbol{y ̂ }}{\\partial \\boldsymbol{z_2} }  \n",
    "\\frac{\\partial \\boldsymbol{z_2}}{\\partial \\boldsymbol{b_2} }\n",
    "$$"
   ]
  },
  {
   "cell_type": "markdown",
   "metadata": {},
   "source": [
    "$$\n",
    "\\frac{\\partial J}{\\partial \\boldsymbol{y ̂}}  \n",
    "\\frac{\\partial \\boldsymbol{y ̂}}{\\partial\\boldsymbol{z_2}}\n",
    "=\n",
    "\\frac{\\partial J}{\\partial \\boldsymbol{y ̂}}  \n",
    "\\odot\n",
    "\\frac{\\partial \\boldsymbol{y ̂}}{\\partial\\boldsymbol{z_2}}\n",
    "=\n",
    "\\boldsymbol{\\delta_2}\n",
    "$$"
   ]
  },
  {
   "cell_type": "markdown",
   "metadata": {},
   "source": [
    "Where $\\odot$ is **element-wise multiplication**, a.k.a the Hadamard Product: https://en.wikipedia.org/wiki/Hadamard_product_(matrices), and $\\frac{\\partial \\boldsymbol{y ̂ }}{\\partial \\boldsymbol{z_2} }$ is the derivative of the output activation function w.r.t its inputs."
   ]
  },
  {
   "cell_type": "markdown",
   "metadata": {},
   "source": [
    "$$\n",
    "\\frac{\\partial \\boldsymbol{z_2}}{\\partial \\boldsymbol{b_2}}\n",
    "=\n",
    "\\frac{\\partial}{\\partial \\boldsymbol{b_2}}\n",
    "\\left( \\boldsymbol{w_2 a}+\\boldsymbol{b_2}\\right)=\\boldsymbol{1}\n",
    "$$"
   ]
  },
  {
   "cell_type": "markdown",
   "metadata": {},
   "source": [
    "Where $\\boldsymbol{1}$ is the ones vector. (i.e. $\\boldsymbol{1}=\\begin{bmatrix}\n",
    "         1 \\\\\n",
    "         ... \\\\\n",
    "         1\n",
    "        \\end{bmatrix}$ for some arbitrary length) In the case of $\\frac{\\partial \\boldsymbol{z_2}}{\\partial \\boldsymbol{b_2}}$, the length of the vector is the same as the length of $\\boldsymbol{b_2}$."
   ]
  },
  {
   "cell_type": "markdown",
   "metadata": {},
   "source": [
    "$$\n",
    "\\frac{\\partial J}{\\partial \\boldsymbol{b_2}}=\\boldsymbol{\\delta_2}\\odot\\ \\boldsymbol{1}=\\boldsymbol{\\delta_2}\n",
    "$$"
   ]
  },
  {
   "cell_type": "markdown",
   "metadata": {},
   "source": [
    "$$\n",
    "\\frac{\\partial J}{\\partial \\boldsymbol{ w_2 }}\n",
    "=\n",
    "\\frac{\\partial J}{ \\partial \\boldsymbol{y ̂ }}  \n",
    "\\frac{\\partial \\boldsymbol{y ̂ }}{\\partial \\boldsymbol{z_2} }  \n",
    "\\frac{\\partial \\boldsymbol{z_2}}{\\partial \\boldsymbol{w_2} }\n",
    "=\n",
    "\\boldsymbol{\\delta_2}\n",
    "\\frac{\\partial \\boldsymbol{z_2}}{\\partial \\boldsymbol{w_2}}\n",
    "$$"
   ]
  },
  {
   "cell_type": "markdown",
   "metadata": {},
   "source": [
    "$$\\frac{\\partial \\boldsymbol{z_2}}{\\partial \\boldsymbol{w_2}}\n",
    "=\n",
    "\\frac{\\partial}{\\partial \\boldsymbol{w_2}}\\left( \\boldsymbol{w_2 a}+\\boldsymbol{b_2}\\right)\n",
    "=\n",
    "\\boldsymbol{a}$$"
   ]
  },
  {
   "cell_type": "markdown",
   "metadata": {},
   "source": [
    "$$\\frac{\\partial J}{\\partial \\boldsymbol{ w_2 }}\n",
    "=\n",
    "\\boldsymbol{\\delta_2}\n",
    "\\otimes\n",
    "\\boldsymbol{a}\n",
    "=\n",
    "\\boldsymbol{\\delta_2}\\boldsymbol{a}^T\n",
    "$$"
   ]
  },
  {
   "cell_type": "markdown",
   "metadata": {},
   "source": [
    "Where $\\otimes$ is the **outer (or tensor) product**: https://en.wikipedia.org/wiki/Outer_product"
   ]
  },
  {
   "cell_type": "markdown",
   "metadata": {},
   "source": [
    "$$\\frac{\\partial J}{\\partial \\boldsymbol{b_1}}\n",
    "=\n",
    "\\frac{\\partial J}{\\partial \\boldsymbol{y ̂}} \n",
    "\\frac{\\partial \\boldsymbol{y ̂}}{\\partial\\boldsymbol{z_2}} \n",
    "\\frac{\\partial \\boldsymbol{z_2}}{\\partial \\boldsymbol{a} }  \n",
    "\\frac{\\partial \\boldsymbol{a}}{\\partial \\boldsymbol{z_1} } \n",
    "\\frac{\\partial \\boldsymbol{z_1}}{\\partial \\boldsymbol{b_1} }\n",
    "=\n",
    "\\boldsymbol{\\delta_2}\n",
    "\\frac{\\partial \\boldsymbol{z_2}}{\\partial \\boldsymbol{a} } \n",
    "\\frac{\\partial \\boldsymbol{a}}{\\partial \\boldsymbol{z_1} } \n",
    "\\frac{\\partial \\boldsymbol{z_1}}{\\partial \\boldsymbol{b_1}}\n",
    "$$"
   ]
  },
  {
   "cell_type": "markdown",
   "metadata": {},
   "source": [
    "Where $\\frac{\\partial \\boldsymbol{a}}{\\partial \\boldsymbol{z_1} }$ is the derivative of the hidden activation function w.r.t. its inputs. "
   ]
  },
  {
   "cell_type": "markdown",
   "metadata": {},
   "source": [
    "$$\n",
    "\\frac{\\partial \\boldsymbol{z_2}}{\\partial \\boldsymbol{a}}\n",
    "=\n",
    "\\frac{\\partial}{\\partial \\boldsymbol{a}}\n",
    "\\left( \\boldsymbol{w_2 a}+\\boldsymbol{b_2}\\right)\n",
    "=\n",
    "\\boldsymbol{w_2}\n",
    "$$"
   ]
  },
  {
   "cell_type": "markdown",
   "metadata": {},
   "source": [
    "$$\n",
    "\\frac{\\partial \\boldsymbol{z_1}}{\\partial \\boldsymbol{b_1}}\n",
    "=\n",
    "\\frac{\\partial}{\\partial \\boldsymbol{b_1}}\n",
    "\\left( \\boldsymbol{w_1 x}+\\boldsymbol{b_1}\\right)\n",
    "=\n",
    "\\boldsymbol{1}\n",
    "$$"
   ]
  },
  {
   "cell_type": "markdown",
   "metadata": {},
   "source": [
    "$$\\boldsymbol{\\delta_2}\n",
    "\\frac{\\partial \\boldsymbol{z_2}}{\\partial \\boldsymbol{a} }\n",
    "=\n",
    "\\langle \\boldsymbol{w_2},\\boldsymbol{\\delta_2}\\rangle\n",
    "=\n",
    "\\boldsymbol{w_2} \\cdot \\boldsymbol{\\delta_2} \n",
    "=\n",
    "\\boldsymbol{w_2}^T\\boldsymbol{\\delta_2}\n",
    "$$"
   ]
  },
  {
   "cell_type": "markdown",
   "metadata": {},
   "source": [
    "Where $\\langle \\boldsymbol{w_2},\\boldsymbol{\\delta_2}\\rangle$ is the **inner product** (in this case, called the **dot product**) of the matrices $\\boldsymbol{w_2}$ and $\\boldsymbol{\\delta_2}$ :\n",
    "https://en.wikipedia.org/wiki/Inner_product_space\n",
    "https://en.wikipedia.org/wiki/Dot_product"
   ]
  },
  {
   "cell_type": "markdown",
   "metadata": {},
   "source": [
    "$$\n",
    "\\frac{\\partial J}{\\partial \\boldsymbol{b_1}}\n",
    "=\n",
    "\\boldsymbol{\\delta_2}\n",
    "\\frac{\\partial \\boldsymbol{z_2}}{\\partial \\boldsymbol{a} } \n",
    "\\frac{\\partial \\boldsymbol{a}}{\\partial \\boldsymbol{z_1} } \n",
    "\\frac{\\partial \\boldsymbol{z_1}}{\\partial \\boldsymbol{b_1}}\n",
    "=\n",
    "\\langle \\boldsymbol{w_2},\\boldsymbol{\\delta_2}\\rangle\n",
    "\\odot \\frac{\\partial \\boldsymbol{a}}{\\partial \\boldsymbol{z_1} }\n",
    "\\odot \\boldsymbol{1}\n",
    "=\n",
    "\\boldsymbol{\\delta_1} \\odot \\boldsymbol{1}\n",
    "=\n",
    "\\boldsymbol{\\delta_1} \n",
    "$$"
   ]
  },
  {
   "cell_type": "markdown",
   "metadata": {},
   "source": [
    "$$\n",
    "\\frac{\\partial J}{\\partial \\boldsymbol{ w_1 }}\n",
    "=\n",
    "\\frac{\\partial J}{\\partial \\boldsymbol{y ̂}} \n",
    "\\frac{\\partial \\boldsymbol{y ̂}}{\\partial\\boldsymbol{z_2}} \n",
    "\\frac{\\partial \\boldsymbol{z_2}}{\\partial \\boldsymbol{a} } \n",
    "\\frac{\\partial \\boldsymbol{a}}{\\partial \\boldsymbol{z_1} } \n",
    "\\frac{\\partial \\boldsymbol{z_1}}{\\partial \\boldsymbol{w_1}}\n",
    "=\n",
    "\\boldsymbol{\\delta_1}\n",
    "\\frac{\\partial \\boldsymbol{z_1}}{\\partial \\boldsymbol{ w_1 }}\n",
    "$$"
   ]
  },
  {
   "cell_type": "markdown",
   "metadata": {},
   "source": [
    "$$\n",
    "\\frac{\\partial \\boldsymbol{z_1}}{\\partial \\boldsymbol{ w_1 }}\n",
    "=\n",
    "\\frac{\\partial}{\\partial \\boldsymbol{ w_1 }}\n",
    "\\left( \\boldsymbol{w_1 x}+\\boldsymbol{b_1}\\right)\n",
    "=\n",
    "\\boldsymbol{x}\n",
    "$$"
   ]
  },
  {
   "cell_type": "markdown",
   "metadata": {},
   "source": [
    "$$\n",
    "\\frac{\\partial J}{\\partial \\boldsymbol{w_1}}\n",
    "=\n",
    "\\boldsymbol{\\delta_1}\n",
    "\\otimes\n",
    "\\boldsymbol{x}\n",
    "=\n",
    "\\boldsymbol{\\delta_1}\n",
    "\\boldsymbol{x}^T\n",
    "$$"
   ]
  }
 ],
 "metadata": {
  "kernelspec": {
   "display_name": "Python 3",
   "language": "python",
   "name": "python3"
  },
  "language_info": {
   "codemirror_mode": {
    "name": "ipython",
    "version": 3
   },
   "file_extension": ".py",
   "mimetype": "text/x-python",
   "name": "python",
   "nbconvert_exporter": "python",
   "pygments_lexer": "ipython3",
   "version": "3.5.3"
  }
 },
 "nbformat": 4,
 "nbformat_minor": 2
}
